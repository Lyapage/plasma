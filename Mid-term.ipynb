{
 "cells": [
  {
   "cell_type": "markdown",
   "metadata": {},
   "source": [
    "# Linear control \n",
    "\n",
    "#### By Lyapage\n",
    "\n",
    "## Problem 1:\n",
    "\n",
    "a) Find the state transition matrix:\n",
    "\n",
    "$$\\bf{\\dot x} = \\begin{bmatrix} 0 & 1 \\\\ 4 & 0 \\end{bmatrix}\\bf{x}$$\n",
    "\n",
    "This is a Linear Time Invariant system (LTV), hence state transition matrix should be:\n",
    "\n",
    "$$\\Phi(t,t_0) = e^{A(t-t_0)}$$\n",
    "\n",
    "I strongly recommend you guys to solve it with Cayley-Hamiloton method which should be like:\n",
    "\n",
    "1) Fnd the characteristic polynominal of state matrix A:\n",
    "\n",
    "$$\\lambda^2-4 = 0$$\n",
    "\n",
    "and the eigenvalues are $\\lambda_1 = -2$ and $\\lambda_2 = 2$\n",
    "\n",
    "2) Find the coefficient $\\alpha_0$ and $\\alpha_1$\n",
    "\n",
    "$$f(\\lambda) = e^{\\lambda (t-t_0)} = \\alpha_0 + \\alpha_1 \\lambda$$\n",
    "\n",
    "$$e^{-2(t-t_0)} = \\alpha_0 - 2\\alpha_1$$\n",
    "\n",
    "$$e^{2(t-t_0)} = \\alpha_0 + 2\\alpha_1$$\n",
    "\n",
    "Hence:\n",
    "$$\\alpha_0 = \\frac{e^{2(t-t_0)}+e^{-2(t-t_0)}}{2}$$ \n",
    "\n",
    "$$\\alpha_1 = \\frac{e^{2(t-t_0)}-e^{-2(t-t_0)}}{4}$$\n",
    "\n",
    "Recall:\n",
    "\n",
    "$$e^{A(t-t_0)} = \\alpha_0\\bf{I} + \\alpha_1\\bf{A}$$\n",
    "\n",
    "Remember here, $\\bf{I}$ indicate the identity matrix with dimension 2.\n",
    "\n",
    "$$\\Phi(t,t_0) = \\begin{bmatrix} \\frac{e^{2(t-t_0)}+e^{-2(t-t_0)}}{2} & 0 \\\\ 0 & \\frac{e^{2(t-t_0)}+e^{-2(t-t_0)}}{2} \\end{bmatrix} + \\begin{bmatrix}0 & \\frac{e^{2(t-t_0)}-e^{-2(t-t_0)}}{4} \\\\ {e^{2(t-t_0)} - e^{-2(t-t_0)}} & 0 \\end{bmatrix}$$\n",
    "\n",
    "$$\\Phi(t,t_0) = \\begin{bmatrix} \\frac{e^{2(t-t_0)}+e^{-2(t-t_0)}}{2} & \\frac{e^{2(t-t_0)}-e^{-2(t-t_0)}}{4} \\\\ {e^{2(t-t_0)} - e^{-2(t-t_0)}} & \\frac{e^{2(t-t_0)}+e^{-2(t-t_0)}}{2} \\end{bmatrix}$$\n",
    "\n",
    "**If you do not prefer this kind of method you are also capable of solving it with MATLAB with sample code:**\n",
    "\n",
    "syms t t0;\n",
    "\n",
    "A = [0 1;4 0];\n",
    "\n",
    "expm(A*(t-t0));\n",
    "\n",
    "--------------------------------------------------------------------------\n",
    "\n",
    "b) Find the set of initial condition $X(0)$ make it asymptotically stable\n",
    "\n",
    "1) Find the $\\Phi(t,0)$\n",
    "\n",
    "$$\\Phi(t,0) = \\begin{bmatrix} \\frac{e^{2t}+e^{-2t}}{2} & \\frac{e^{2t}-e^{-2t}}{4} \\\\ {e^{2t} - e^{-2t}} & \\frac{e^{2t}+e^{-2t}}{2} \\end{bmatrix}$$\n",
    "\n",
    "For given condition $t\\rightarrow\\infty$, solutions $\\bf{X(t)}$ should be:\n",
    "\n",
    "$$X(t) =\\begin{bmatrix} x_1(t) \\\\ x_2(t) \\end{bmatrix} = \\Phi(t,0) X_0  = \\begin{bmatrix} \\frac{e^{2t}+e^{-2t}}{2} & \\frac{e^{2t}-e^{-2t}}{4} \\\\ {e^{2t} - e^{-2t}} & \\frac{e^{2t}+e^{-2t}}{2} \\end{bmatrix} \\begin{bmatrix} x_{10} \\\\ x_{20} \\end{bmatrix} = \\begin{bmatrix} 0 \\\\ 0 \\end{bmatrix}$$\n",
    "\n",
    "$$\\Big \\{ \\begin{matrix} \\frac{e^{2t}+e^{-2t}}{2}x_{10} + \\frac{e^{2t}-e^{-2t}}{4}x_{20} = 0 \\\\ ({e^{2t} - e^{-2t}})x_{10} + \\frac{e^{2t}+e^{-2t}}{2}x_{20} = 0 \\end{matrix}$$\n",
    "\n",
    "Here,I'd like to neglect the term $e^{-2t}$ since as $t\\rightarrow\\infty$ this term is near zero.\n",
    "\n",
    "Now the above equations become:\n",
    "\n",
    "$$\\Big \\{ \\begin{matrix} 2x_{10}e^{2t} + x_{20}e^{2t}= 0 \\\\ 2x_{10}e^{2t} + x_{20}e^{2t}= 0 \\end{matrix}$$\n",
    "\n",
    "Divide by $e^{2t}$ for both sides\n",
    "\n",
    "$$2x_{10} + x_{20} = 0$$\n",
    "\n",
    "Bang!Bang!Bang! The initial set is apparent and should be wrote like that: \n",
    "\n",
    "$$\\Big \\{ c\\begin{bmatrix} 1\\\\-2 \\end{bmatrix},c-arbitrary \\space number \\Big \\}$$"
   ]
  },
  {
   "cell_type": "markdown",
   "metadata": {
    "collapsed": false
   },
   "source": [
    "## Problem 2:\n",
    "\n",
    "a) Finding state matrix:\n",
    "\n"
   ]
  },
  {
   "cell_type": "code",
   "execution_count": null,
   "metadata": {
    "collapsed": true
   },
   "outputs": [],
   "source": []
  }
 ],
 "metadata": {
  "kernelspec": {
   "display_name": "Python [default]",
   "language": "python",
   "name": "python3"
  },
  "language_info": {
   "codemirror_mode": {
    "name": "ipython",
    "version": 3
   },
   "file_extension": ".py",
   "mimetype": "text/x-python",
   "name": "python",
   "nbconvert_exporter": "python",
   "pygments_lexer": "ipython3",
   "version": "3.5.2"
  }
 },
 "nbformat": 4,
 "nbformat_minor": 1
}
